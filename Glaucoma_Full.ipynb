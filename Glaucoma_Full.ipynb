{
  "nbformat": 4,
  "nbformat_minor": 0,
  "metadata": {
    "colab": {
      "name": "Copy of GlaucomaTest.ipynb",
      "version": "0.3.2",
      "provenance": []
    },
    "kernelspec": {
      "name": "python3",
      "display_name": "Python 3"
    },
    "accelerator": "GPU"
  },
  "cells": [
    {
      "metadata": {
        "id": "0citrj2JWU-h",
        "colab_type": "code",
        "outputId": "17f27f82-678e-48de-b3f5-c2fbc85c125d",
        "colab": {
          "base_uri": "https://localhost:8080/",
          "height": 54
        }
      },
      "cell_type": "code",
      "source": [
        "from google.colab import drive\n",
        "drive.mount('/content/drive')"
      ],
      "execution_count": 0,
      "outputs": [
        {
          "output_type": "stream",
          "text": [
            "Drive already mounted at /content/drive; to attempt to forcibly remount, call drive.mount(\"/content/drive\", force_remount=True).\n"
          ],
          "name": "stdout"
        }
      ]
    },
    {
      "metadata": {
        "id": "L8OsbAmhWqP-",
        "colab_type": "code",
        "outputId": "387bd751-d757-4a09-f4b9-256e76ba9c3a",
        "colab": {
          "base_uri": "https://localhost:8080/",
          "height": 34
        }
      },
      "cell_type": "code",
      "source": [
        "import os\n",
        "print(os.listdir(\"/content/drive/My Drive/glaucom\"))"
      ],
      "execution_count": 0,
      "outputs": [
        {
          "output_type": "stream",
          "text": [
            "['train', 'test', 'Glaucomamodel.h5']\n"
          ],
          "name": "stdout"
        }
      ]
    },
    {
      "metadata": {
        "id": "eIjxmKzsWqYB",
        "colab_type": "code",
        "outputId": "ee9172c2-6ec3-4495-bf5e-eeda40cc497c",
        "colab": {
          "base_uri": "https://localhost:8080/",
          "height": 105
        }
      },
      "cell_type": "code",
      "source": [
        "from keras.models import Sequential\n",
        "from keras.layers import Conv2D\n",
        "from keras.layers import MaxPooling2D\n",
        "from keras.layers import Flatten\n",
        "from keras.layers import Dense\n",
        "# Initialising the CNN\n",
        "classifier = Sequential()\n",
        "# Step 1 - Convolution\n",
        "classifier.add(Conv2D(32, (3, 3), input_shape = (256,256, 3), activation = 'relu'))\n",
        "# Step 2 - Pooling\n",
        "classifier.add(MaxPooling2D(pool_size = (2, 2)))\n",
        "# Adding a second convolutional layer\n",
        "classifier.add(Conv2D(32, (3, 3), activation = 'relu'))\n",
        "classifier.add(MaxPooling2D(pool_size = (2, 2)))\n",
        "# Step 3 - Flattening\n",
        "classifier.add(Flatten())\n",
        "# Step 4 - Full connection\n",
        "classifier.add(Dense(units = 128, activation = 'relu'))\n",
        "classifier.add(Dense(units = 1, activation = 'sigmoid'))\n",
        "# Compiling the CNN\n",
        "classifier.compile(optimizer = 'adam', loss = 'binary_crossentropy', metrics = ['accuracy'])"
      ],
      "execution_count": 0,
      "outputs": [
        {
          "output_type": "stream",
          "text": [
            "Using TensorFlow backend.\n"
          ],
          "name": "stderr"
        },
        {
          "output_type": "stream",
          "text": [
            "WARNING:tensorflow:From /usr/local/lib/python3.6/dist-packages/tensorflow/python/framework/op_def_library.py:263: colocate_with (from tensorflow.python.framework.ops) is deprecated and will be removed in a future version.\n",
            "Instructions for updating:\n",
            "Colocations handled automatically by placer.\n"
          ],
          "name": "stdout"
        }
      ]
    },
    {
      "metadata": {
        "id": "QPmdewLQWqcw",
        "colab_type": "code",
        "outputId": "99c4264c-be63-4f2a-9a0f-fd620238b298",
        "colab": {
          "base_uri": "https://localhost:8080/",
          "height": 51
        }
      },
      "cell_type": "code",
      "source": [
        "from keras.preprocessing.image import ImageDataGenerator\n",
        "train_datagen = ImageDataGenerator(rescale = 1./255,\n",
        "shear_range = 0.2,\n",
        "zoom_range = 0.2,\n",
        "horizontal_flip = True)\n",
        "test_datagen = ImageDataGenerator(rescale = 1./255)\n",
        "training_set = train_datagen.flow_from_directory('/content/drive/My Drive/glaucom/train',\n",
        "target_size = (256,256),\n",
        "batch_size = 32,\n",
        "class_mode = 'binary')\n",
        "test_set = test_datagen.flow_from_directory('/content/drive/My Drive/glaucom/test',\n",
        "target_size = (256,256),\n",
        "batch_size = 32,\n",
        "class_mode = 'binary')"
      ],
      "execution_count": 0,
      "outputs": [
        {
          "output_type": "stream",
          "text": [
            "Found 2664 images belonging to 2 classes.\n",
            "Found 811 images belonging to 2 classes.\n"
          ],
          "name": "stdout"
        }
      ]
    },
    {
      "metadata": {
        "id": "1CXpZx3AWqjm",
        "colab_type": "code",
        "outputId": "fc852fe6-2bfb-429b-d1e3-8f3e3f589f23",
        "colab": {
          "base_uri": "https://localhost:8080/",
          "height": 1108
        }
      },
      "cell_type": "code",
      "source": [
        "batch_size=32\n",
        "model_info=classifier.fit_generator(training_set,\n",
        "steps_per_epoch = 100/batch_size,\n",
        "epochs = 30,\n",
        "validation_data = test_set,\n",
        "validation_steps = 30/batch_size)"
      ],
      "execution_count": 0,
      "outputs": [
        {
          "output_type": "stream",
          "text": [
            "WARNING:tensorflow:From /usr/local/lib/python3.6/dist-packages/tensorflow/python/ops/math_ops.py:3066: to_int32 (from tensorflow.python.ops.math_ops) is deprecated and will be removed in a future version.\n",
            "Instructions for updating:\n",
            "Use tf.cast instead.\n",
            "Epoch 1/30\n",
            "4/3 [======================================] - 33s 8s/step - loss: 2.5900 - acc: 0.4844 - val_loss: 1.3291 - val_acc: 0.5625\n",
            "Epoch 2/30\n",
            "4/3 [======================================] - 28s 7s/step - loss: 1.0986 - acc: 0.4844 - val_loss: 1.1817 - val_acc: 0.4062\n",
            "Epoch 3/30\n",
            "4/3 [======================================] - 26s 7s/step - loss: 0.7169 - acc: 0.6250 - val_loss: 0.7166 - val_acc: 0.4062\n",
            "Epoch 4/30\n",
            "4/3 [======================================] - 26s 7s/step - loss: 0.6924 - acc: 0.4844 - val_loss: 0.6554 - val_acc: 0.4688\n",
            "Epoch 5/30\n",
            "4/3 [======================================] - 26s 6s/step - loss: 0.6604 - acc: 0.6406 - val_loss: 0.5862 - val_acc: 0.8125\n",
            "Epoch 6/30\n",
            "4/3 [======================================] - 25s 6s/step - loss: 0.5689 - acc: 0.7656 - val_loss: 0.4075 - val_acc: 0.8750\n",
            "Epoch 7/30\n",
            "4/3 [======================================] - 23s 6s/step - loss: 0.4960 - acc: 0.7891 - val_loss: 0.5930 - val_acc: 0.6562\n",
            "Epoch 8/30\n",
            "4/3 [======================================] - 24s 6s/step - loss: 0.4527 - acc: 0.8047 - val_loss: 0.3477 - val_acc: 0.8750\n",
            "Epoch 9/30\n",
            "4/3 [======================================] - 25s 6s/step - loss: 0.4313 - acc: 0.8359 - val_loss: 0.4061 - val_acc: 0.8125\n",
            "Epoch 10/30\n",
            "4/3 [======================================] - 27s 7s/step - loss: 0.4573 - acc: 0.7734 - val_loss: 0.4935 - val_acc: 0.7500\n",
            "Epoch 11/30\n",
            "4/3 [======================================] - 22s 5s/step - loss: 0.4249 - acc: 0.8047 - val_loss: 0.4013 - val_acc: 0.8750\n",
            "Epoch 12/30\n",
            "4/3 [======================================] - 23s 6s/step - loss: 0.4351 - acc: 0.7891 - val_loss: 0.3589 - val_acc: 0.7812\n",
            "Epoch 13/30\n",
            "4/3 [======================================] - 24s 6s/step - loss: 0.4053 - acc: 0.7891 - val_loss: 0.2810 - val_acc: 0.9062\n",
            "Epoch 14/30\n",
            "4/3 [======================================] - 24s 6s/step - loss: 0.3352 - acc: 0.8672 - val_loss: 0.4855 - val_acc: 0.7812\n",
            "Epoch 15/30\n",
            "4/3 [======================================] - 23s 6s/step - loss: 0.3413 - acc: 0.8516 - val_loss: 0.1169 - val_acc: 0.9688\n",
            "Epoch 16/30\n",
            "4/3 [======================================] - 23s 6s/step - loss: 0.2946 - acc: 0.8594 - val_loss: 0.3037 - val_acc: 0.9062\n",
            "Epoch 17/30\n",
            "4/3 [======================================] - 25s 6s/step - loss: 0.4212 - acc: 0.7656 - val_loss: 0.3936 - val_acc: 0.8125\n",
            "Epoch 18/30\n",
            "4/3 [======================================] - 24s 6s/step - loss: 0.2882 - acc: 0.8672 - val_loss: 0.2586 - val_acc: 0.9062\n",
            "Epoch 19/30\n",
            "4/3 [======================================] - 23s 6s/step - loss: 0.2399 - acc: 0.9141 - val_loss: 0.1382 - val_acc: 0.9688\n",
            "Epoch 20/30\n",
            "4/3 [======================================] - 24s 6s/step - loss: 0.3324 - acc: 0.8594 - val_loss: 0.3251 - val_acc: 0.8750\n",
            "Epoch 21/30\n",
            "4/3 [======================================] - 20s 5s/step - loss: 0.2124 - acc: 0.9264 - val_loss: 0.2322 - val_acc: 0.9375\n",
            "Epoch 22/30\n",
            "4/3 [======================================] - 2s 585ms/step - loss: 0.2955 - acc: 0.8672 - val_loss: 0.1469 - val_acc: 0.9688\n",
            "Epoch 23/30\n",
            "4/3 [======================================] - 2s 594ms/step - loss: 0.3206 - acc: 0.8750 - val_loss: 0.2204 - val_acc: 0.9688\n",
            "Epoch 24/30\n",
            "4/3 [======================================] - 2s 591ms/step - loss: 0.2913 - acc: 0.8984 - val_loss: 0.1537 - val_acc: 0.9688\n",
            "Epoch 25/30\n",
            "4/3 [======================================] - 2s 589ms/step - loss: 0.1616 - acc: 0.9453 - val_loss: 0.4153 - val_acc: 0.8438\n",
            "Epoch 26/30\n",
            "4/3 [======================================] - 2s 613ms/step - loss: 0.1295 - acc: 0.9531 - val_loss: 0.0675 - val_acc: 1.0000\n",
            "Epoch 27/30\n",
            "4/3 [======================================] - 2s 573ms/step - loss: 0.1478 - acc: 0.9531 - val_loss: 0.2606 - val_acc: 0.9375\n",
            "Epoch 28/30\n",
            "4/3 [======================================] - 2s 589ms/step - loss: 0.1653 - acc: 0.9375 - val_loss: 0.1628 - val_acc: 0.9062\n",
            "Epoch 29/30\n",
            "4/3 [======================================] - 2s 591ms/step - loss: 0.1855 - acc: 0.9297 - val_loss: 0.1526 - val_acc: 0.9375\n",
            "Epoch 30/30\n",
            "4/3 [======================================] - 2s 590ms/step - loss: 0.2347 - acc: 0.9297 - val_loss: 0.1405 - val_acc: 0.9688\n"
          ],
          "name": "stdout"
        }
      ]
    },
    {
      "metadata": {
        "id": "2lxtoeoNWrEE",
        "colab_type": "code",
        "outputId": "2e7f7ff0-196f-46f6-85ab-775395d3762a",
        "colab": {
          "base_uri": "https://localhost:8080/",
          "height": 51
        }
      },
      "cell_type": "code",
      "source": [
        "### Performance evaluation\n",
        "#########################\n",
        "score = classifier.evaluate_generator(test_set,811/batch_size)\n",
        "print(\" Total: \", len(test_set.filenames))\n",
        "print(\"Loss: \", score[0], \"Accuracy: \", score[1])\n",
        "#print(\"Accuracy = \",score[1])"
      ],
      "execution_count": 0,
      "outputs": [
        {
          "output_type": "stream",
          "text": [
            " Total:  811\n",
            "Loss:  0.14874522592849415 Accuracy:  0.9556103575832305\n"
          ],
          "name": "stdout"
        }
      ]
    },
    {
      "metadata": {
        "id": "HObOH9HcWrCG",
        "colab_type": "code",
        "colab": {}
      },
      "cell_type": "code",
      "source": [
        "classifier.save('/content/drive/My Drive/glaucom/Gmodel.h5')"
      ],
      "execution_count": 0,
      "outputs": []
    },
    {
      "metadata": {
        "id": "jmMbfguSaAg9",
        "colab_type": "code",
        "colab": {}
      },
      "cell_type": "code",
      "source": [
        "import os\n",
        "from keras.models import load_model\n",
        "from PIL import Image\n",
        "from keras.preprocessing import image\n",
        "import numpy as np\n",
        "import cv2"
      ],
      "execution_count": 0,
      "outputs": []
    },
    {
      "metadata": {
        "id": "5HLo3AcCZ3Pt",
        "colab_type": "code",
        "outputId": "04948f93-2ce7-4f28-abf7-34d81ca35f85",
        "colab": {
          "base_uri": "https://localhost:8080/",
          "height": 34
        }
      },
      "cell_type": "code",
      "source": [
        "target_size = (256,256)\n",
        "model=load_model('/content/drive/My Drive/glaucom/Gmodel.h5')\n",
        "print(\"model loaded\")\n"
      ],
      "execution_count": 0,
      "outputs": [
        {
          "output_type": "stream",
          "text": [
            "model loaded\n"
          ],
          "name": "stdout"
        }
      ]
    },
    {
      "metadata": {
        "id": "tBYT79eYWq_2",
        "colab_type": "code",
        "outputId": "de4f0cf7-479e-410f-8425-153e61dd2dd3",
        "colab": {
          "base_uri": "https://localhost:8080/",
          "height": 34
        }
      },
      "cell_type": "code",
      "source": [
        "import numpy as np\n",
        "from keras.preprocessing import image\n",
        "test_image = image.load_img('/content/drive/My Drive/glaucom/test/class1/img_0_888.jpeg', target_size = (256,256))\n",
        "test_image = image.img_to_array(test_image)\n",
        "test_image = np.expand_dims(test_image, axis = 0)\n",
        "result = model.predict(test_image)\n",
        "training_set.class_indices\n",
        "if result[0][0] == 1:\n",
        " print(\"Glaucoma\")\n",
        "else:\n",
        " print(\"Not Glaucoma\")\n"
      ],
      "execution_count": 0,
      "outputs": [
        {
          "output_type": "stream",
          "text": [
            "Glaucoma\n"
          ],
          "name": "stdout"
        }
      ]
    },
    {
      "metadata": {
        "id": "YJ54sOruaOsX",
        "colab_type": "code",
        "outputId": "56cf6cae-2d1c-439f-de57-7e2e4cbb3667",
        "colab": {
          "base_uri": "https://localhost:8080/",
          "height": 34
        }
      },
      "cell_type": "code",
      "source": [
        "import numpy as np\n",
        "from keras.preprocessing import image\n",
        "test_image = image.load_img('/content/drive/My Drive/glaucom/test/class0/img_0_1035.jpeg', target_size = (256,256))\n",
        "test_image = image.img_to_array(test_image)\n",
        "test_image = np.expand_dims(test_image, axis = 0)\n",
        "result = model.predict(test_image)\n",
        "training_set.class_indices\n",
        "if result[0][0] == 1:\n",
        " print(\"Glaucoma\")\n",
        "else:\n",
        " print(\"Not Glaucoma\")\n"
      ],
      "execution_count": 0,
      "outputs": [
        {
          "output_type": "stream",
          "text": [
            "Not Glaucoma\n"
          ],
          "name": "stdout"
        }
      ]
    },
    {
      "metadata": {
        "id": "s78eJbjyWq8z",
        "colab_type": "code",
        "colab": {}
      },
      "cell_type": "code",
      "source": [
        "import numpy as np \n",
        "import pandas as pd \n",
        "import matplotlib.pyplot as plt\n",
        "from PIL import  Image\n",
        "%matplotlib inline\n",
        "plt.style.use('fivethirtyeight')\n",
        "def plot_model_history(model_history):\n",
        "    fig, axs = plt.subplots(1,2,figsize=(15,5))\n",
        "    # summarize history for accuracy\n",
        "    axs[0].plot(range(1,len(model_history.history['acc'])+1),model_history.history['acc'])\n",
        "    axs[0].plot(range(1,len(model_history.history['val_acc'])+1),model_history.history['val_acc'])\n",
        "    axs[0].set_title('Model Accuracy')\n",
        "    axs[0].set_ylabel('Accuracy')\n",
        "    axs[0].set_xlabel('Epoch')\n",
        "    axs[0].set_xticks(np.arange(1,len(model_history.history['acc'])+1),len(model_history.history['acc'])/10)\n",
        "    axs[0].legend(['train', 'val'], loc='best')\n",
        "    # summarize history for loss\n",
        "    axs[1].plot(range(1,len(model_history.history['loss'])+1),model_history.history['loss'])\n",
        "    axs[1].plot(range(1,len(model_history.history['val_loss'])+1),model_history.history['val_loss'])\n",
        "    axs[1].set_title('Model Loss')\n",
        "    axs[1].set_ylabel('Loss')\n",
        "    axs[1].set_xlabel('Epoch')\n",
        "    axs[1].set_xticks(np.arange(1,len(model_history.history['loss'])+1),len(model_history.history['loss'])/10)\n",
        "    axs[1].legend(['train', 'val'], loc='best')\n",
        "    plt.show()"
      ],
      "execution_count": 0,
      "outputs": []
    },
    {
      "metadata": {
        "id": "kLqXmiqwWq58",
        "colab_type": "code",
        "outputId": "cc41722f-a5bd-49e6-ea75-84ba37edfcf8",
        "colab": {
          "base_uri": "https://localhost:8080/",
          "height": 399
        }
      },
      "cell_type": "code",
      "source": [
        "plot_model_history(model_info)"
      ],
      "execution_count": 0,
      "outputs": [
        {
          "output_type": "display_data",
          "data": {
            "image/png": "[encoded data removed]",
            "text/plain": [
              "<Figure size 1080x360 with 2 Axes>"
            ]
          },
          "metadata": {
            "tags": []
          }
        }
      ]
    },
    {
      "metadata": {
        "id": "9JMlgHBTWq3C",
        "colab_type": "code",
        "colab": {}
      },
      "cell_type": "code",
      "source": [
        ""
      ],
      "execution_count": 0,
      "outputs": []
    },
    {
      "metadata": {
        "id": "qu1bY9XCWq0J",
        "colab_type": "code",
        "colab": {}
      },
      "cell_type": "code",
      "source": [
        ""
      ],
      "execution_count": 0,
      "outputs": []
    },
    {
      "metadata": {
        "id": "G5yydbbdWqw-",
        "colab_type": "code",
        "colab": {}
      },
      "cell_type": "code",
      "source": [
        ""
      ],
      "execution_count": 0,
      "outputs": []
    },
    {
      "metadata": {
        "id": "3w7pBk6UWquK",
        "colab_type": "code",
        "colab": {}
      },
      "cell_type": "code",
      "source": [
        ""
      ],
      "execution_count": 0,
      "outputs": []
    },
    {
      "metadata": {
        "id": "UsarXoRFWqra",
        "colab_type": "code",
        "colab": {}
      },
      "cell_type": "code",
      "source": [
        ""
      ],
      "execution_count": 0,
      "outputs": []
    },
    {
      "metadata": {
        "id": "Z9KcZ2hNWqnn",
        "colab_type": "code",
        "colab": {}
      },
      "cell_type": "code",
      "source": [
        ""
      ],
      "execution_count": 0,
      "outputs": []
    },
    {
      "metadata": {
        "id": "vWEnNna4Wqhw",
        "colab_type": "code",
        "colab": {}
      },
      "cell_type": "code",
      "source": [
        ""
      ],
      "execution_count": 0,
      "outputs": []
    },
    {
      "metadata": {
        "id": "cu8fL8dMWqgQ",
        "colab_type": "code",
        "colab": {}
      },
      "cell_type": "code",
      "source": [
        ""
      ],
      "execution_count": 0,
      "outputs": []
    }
  ]
}