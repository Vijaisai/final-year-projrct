{
  "nbformat": 4,
  "nbformat_minor": 0,
  "metadata": {
    "colab": {
      "name": " New full DR_full.ipynb",
      "version": "0.3.2",
      "provenance": [],
      "collapsed_sections": []
    },
    "kernelspec": {
      "name": "python3",
      "display_name": "Python 3"
    },
    "accelerator": "GPU"
  },
  "cells": [
    {
      "metadata": {
        "id": "VUPUeb73sFPA",
        "colab_type": "code",
        "outputId": "f95fac85-2334-4535-c4fa-85e598279034",
        "colab": {
          "base_uri": "https://localhost:8080/",
          "height": 54
        }
      },
      "cell_type": "code",
      "source": [
        "from google.colab import drive\n",
        "drive.mount('/content/drive')"
      ],
      "execution_count": 0,
      "outputs": [
        {
          "output_type": "stream",
          "text": [
            "Drive already mounted at /content/drive; to attempt to forcibly remount, call drive.mount(\"/content/drive\", force_remount=True).\n"
          ],
          "name": "stdout"
        }
      ]
    },
    {
      "metadata": {
        "id": "q11BksgCsXTk",
        "colab_type": "code",
        "outputId": "cf6d87da-8e5f-4e05-872c-22584d1e8daa",
        "colab": {
          "base_uri": "https://localhost:8080/",
          "height": 34
        }
      },
      "cell_type": "code",
      "source": [
        "import os\n",
        "print(os.listdir(\"/content/drive/My Drive/train\"))"
      ],
      "execution_count": 0,
      "outputs": [
        {
          "output_type": "stream",
          "text": [
            "['ProjTrain', 'test']\n"
          ],
          "name": "stdout"
        }
      ]
    },
    {
      "metadata": {
        "id": "CVRTB1SVsXjb",
        "colab_type": "code",
        "outputId": "a99f1091-070e-4327-f04e-b02fea141324",
        "colab": {
          "base_uri": "https://localhost:8080/",
          "height": 34
        }
      },
      "cell_type": "code",
      "source": [
        "import numpy as np \n",
        "import pandas as pd \n",
        "import matplotlib.pyplot as plt\n",
        "from PIL import  Image\n",
        "%matplotlib inline\n",
        "plt.style.use('fivethirtyeight')\n",
        "\n",
        "from PIL import Image\n",
        "# Importing the Keras libraries and packages\n",
        "from keras.models import Sequential\n",
        "from keras.layers import Conv2D\n",
        "from keras.layers import MaxPooling2D\n",
        "from keras.layers import Flatten\n",
        "from keras.layers import Dense\n",
        "from keras.layers import Dropout\n",
        "from tensorflow.contrib.keras.api.keras.callbacks import Callback\n",
        "from tensorflow.contrib.keras.api.keras.preprocessing.image import ImageDataGenerator\n",
        "from tensorflow.contrib.keras import backend\n",
        "from keras.optimizers import Adam\n",
        "\n",
        "import os"
      ],
      "execution_count": 0,
      "outputs": [
        {
          "output_type": "stream",
          "text": [
            "Using TensorFlow backend.\n"
          ],
          "name": "stderr"
        }
      ]
    },
    {
      "metadata": {
        "id": "1bv7kOyWsYI7",
        "colab_type": "code",
        "colab": {}
      },
      "cell_type": "code",
      "source": [
        "### Setup the model\n",
        "\n",
        "\n",
        "model = Sequential()\n",
        "model.add(Conv2D(32, (3, 3), input_shape=input_shape))\n",
        "model.add(Activation('relu'))\n",
        "model.add(MaxPooling2D(pool_size=(2, 2)))\n",
        "\n",
        "model.add(Conv2D(32, (3, 3)))\n",
        "model.add(Activation('relu'))\n",
        "model.add(MaxPooling2D(pool_size=(2, 2)))\n",
        "\n",
        "model.add(Conv2D(32, (3, 3)))\n",
        "model.add(Activation('relu'))\n",
        "model.add(MaxPooling2D(pool_size=(2, 2)))\n",
        "\n",
        "model.add(Flatten())\n",
        "model.add(Dense(64))\n",
        "model.add(Activation('relu'))\n",
        "model.add(Dropout(0.2))\n",
        "model.add(Dense(5))\n",
        "model.add(Activation('softmax'))"
      ],
      "execution_count": 0,
      "outputs": []
    },
    {
      "metadata": {
        "id": "b88aRYcmsYUP",
        "colab_type": "code",
        "colab": {}
      },
      "cell_type": "code",
      "source": [
        "model.compile(loss='categorical_crossentropy',\n",
        "              optimizer='adam',\n",
        "              metrics=['accuracy'])"
      ],
      "execution_count": 0,
      "outputs": []
    },
    {
      "metadata": {
        "id": "Y9cl2bTe1_KN",
        "colab_type": "code",
        "colab": {}
      },
      "cell_type": "code",
      "source": [
        "script_dir = os.path.dirname(\".\")\n",
        "training_set_path = os.path.join(script_dir, '/content/drive/My Drive/train/ProjTrain/')\n",
        "test_set_path = os.path.join(script_dir, '/content/drive/My Drive/train/ProjTrain/')"
      ],
      "execution_count": 0,
      "outputs": []
    },
    {
      "metadata": {
        "id": "9NdFdDDs2D9I",
        "colab_type": "code",
        "outputId": "dba878d2-e4f2-45c5-c644-fc80e42c74c4",
        "colab": {
          "base_uri": "https://localhost:8080/",
          "height": 51
        }
      },
      "cell_type": "code",
      "source": [
        "batch_size = 32\n",
        "input_size = (512,512)\n",
        "train_datagen = ImageDataGenerator(rescale=1. / 255,\n",
        "                                   shear_range=0.2,\n",
        "                                   zoom_range=0.2,\n",
        "                                   horizontal_flip=True)\n",
        "\n",
        "test_datagen = ImageDataGenerator(rescale=1. / 255, validation_split=0.33)\n",
        "\n",
        "training_set = train_datagen.flow_from_directory(training_set_path,\n",
        "                                                 target_size=input_size,\n",
        "                                                 batch_size=batch_size,\n",
        "                                                 subset=\"training\",\n",
        "                                                 class_mode='categorical')\n",
        "\n",
        "\n",
        "\n",
        "test_set = test_datagen.flow_from_directory(test_set_path,\n",
        "                                            target_size=input_size,\n",
        "                                            batch_size=batch_size,\n",
        "                                            subset=\"validation\",\n",
        "                                            class_mode='categorical')"
      ],
      "execution_count": 0,
      "outputs": [
        {
          "output_type": "stream",
          "text": [
            "Found 25020 images belonging to 5 classes.\n",
            "Found 8256 images belonging to 5 classes.\n"
          ],
          "name": "stdout"
        }
      ]
    },
    {
      "metadata": {
        "id": "r0JQl7781_FJ",
        "colab_type": "code",
        "colab": {}
      },
      "cell_type": "code",
      "source": [
        ""
      ],
      "execution_count": 0,
      "outputs": []
    },
    {
      "metadata": {
        "id": "7NjdQN3HsY96",
        "colab_type": "code",
        "outputId": "7c945738-c56d-49f4-ed9c-033e58952a5d",
        "colab": {
          "base_uri": "https://localhost:8080/",
          "height": 1176
        }
      },
      "cell_type": "code",
      "source": [
        "#########################\n",
        "### Build the model\n",
        "#########################\n",
        "\n",
        "variable=model.fit_generator(\n",
        "    training_set,\n",
        "    steps_per_epoch=25020// batch_size,\n",
        "    epochs=epochs,\n",
        "    validation_data=test_set,\n",
        "    validation_steps=8256// batch_size,\n",
        "    shuffle=True)"
      ],
      "execution_count": 0,
      "outputs": [
        {
          "output_type": "stream",
          "text": [
            "WARNING:tensorflow:From /usr/local/lib/python3.6/dist-packages/tensorflow/python/ops/math_ops.py:3066: to_int32 (from tensorflow.python.ops.math_ops) is deprecated and will be removed in a future version.\n",
            "Instructions for updating:\n",
            "Use tf.cast instead.\n",
            "Epoch 1/32\n",
            "781/781 [==============================] - 6521s 8s/step - loss: 1.3024 - acc: 0.3726 - val_loss: 1.8358 - val_acc: 0.2232\n",
            "Epoch 2/32\n",
            "781/781 [==============================] - 303s 388ms/step - loss: 1.2479 - acc: 0.3905 - val_loss: 1.9527 - val_acc: 0.2385\n",
            "Epoch 3/32\n",
            "781/781 [==============================] - 294s 376ms/step - loss: 1.2297 - acc: 0.4092 - val_loss: 1.9201 - val_acc: 0.2202\n",
            "Epoch 4/32\n",
            "781/781 [==============================] - 294s 377ms/step - loss: 1.2051 - acc: 0.4256 - val_loss: 1.8049 - val_acc: 0.2523\n",
            "Epoch 5/32\n",
            "781/781 [==============================] - 295s 378ms/step - loss: 1.1439 - acc: 0.4628 - val_loss: 1.6902 - val_acc: 0.2844\n",
            "Epoch 6/32\n",
            "781/781 [==============================] - 295s 378ms/step - loss: 1.0319 - acc: 0.5248 - val_loss: 1.4160 - val_acc: 0.3624\n",
            "Epoch 7/32\n",
            "781/781 [==============================] - 295s 377ms/step - loss: 0.8827 - acc: 0.6052 - val_loss: 1.3460 - val_acc: 0.3532\n",
            "Epoch 8/32\n",
            "781/781 [==============================] - 294s 376ms/step - loss: 0.7342 - acc: 0.6802 - val_loss: 1.0466 - val_acc: 0.4862\n",
            "Epoch 9/32\n",
            "781/781 [==============================] - 296s 378ms/step - loss: 0.6186 - acc: 0.7321 - val_loss: 0.9806 - val_acc: 0.5491\n",
            "Epoch 10/32\n",
            "781/781 [==============================] - 296s 378ms/step - loss: 0.5178 - acc: 0.7808 - val_loss: 0.7671 - val_acc: 0.7018\n",
            "Epoch 11/32\n",
            "781/781 [==============================] - 296s 378ms/step - loss: 0.4624 - acc: 0.8089 - val_loss: 0.6208 - val_acc: 0.7385\n",
            "Epoch 12/32\n",
            "781/781 [==============================] - 298s 381ms/step - loss: 0.4154 - acc: 0.8335 - val_loss: 0.5417 - val_acc: 0.7752\n",
            "Epoch 13/32\n",
            "781/781 [==============================] - 296s 379ms/step - loss: 0.3710 - acc: 0.8530 - val_loss: 0.5196 - val_acc: 0.7982\n",
            "Epoch 14/32\n",
            "781/781 [==============================] - 297s 380ms/step - loss: 0.3387 - acc: 0.8644 - val_loss: 0.4681 - val_acc: 0.7982\n",
            "Epoch 15/32\n",
            "781/781 [==============================] - 296s 379ms/step - loss: 0.3146 - acc: 0.8779 - val_loss: 0.4684 - val_acc: 0.7936\n",
            "Epoch 16/32\n",
            "781/781 [==============================] - 296s 379ms/step - loss: 0.2990 - acc: 0.8821 - val_loss: 0.3959 - val_acc: 0.8349\n",
            "Epoch 17/32\n",
            "781/781 [==============================] - 296s 379ms/step - loss: 0.2843 - acc: 0.8892 - val_loss: 0.4117 - val_acc: 0.8259\n",
            "Epoch 18/32\n",
            "781/781 [==============================] - 297s 380ms/step - loss: 0.2682 - acc: 0.8947 - val_loss: 0.4402 - val_acc: 0.8303\n",
            "Epoch 19/32\n",
            "781/781 [==============================] - 296s 379ms/step - loss: 0.2587 - acc: 0.9008 - val_loss: 0.3533 - val_acc: 0.8440\n",
            "Epoch 20/32\n",
            "781/781 [==============================] - 296s 379ms/step - loss: 0.2422 - acc: 0.9053 - val_loss: 0.2764 - val_acc: 0.8853\n",
            "Epoch 21/32\n",
            "781/781 [==============================] - 296s 379ms/step - loss: 0.2266 - acc: 0.9124 - val_loss: 0.4472 - val_acc: 0.8073\n",
            "Epoch 22/32\n",
            "781/781 [==============================] - 296s 379ms/step - loss: 0.2310 - acc: 0.9111 - val_loss: 0.4321 - val_acc: 0.8165\n",
            "Epoch 23/32\n",
            "781/781 [==============================] - 296s 379ms/step - loss: 0.2232 - acc: 0.9146 - val_loss: 0.3308 - val_acc: 0.8716\n",
            "Epoch 24/32\n",
            "781/781 [==============================] - 296s 379ms/step - loss: 0.2149 - acc: 0.9196 - val_loss: 0.3225 - val_acc: 0.8440\n",
            "Epoch 25/32\n",
            "781/781 [==============================] - 296s 379ms/step - loss: 0.2022 - acc: 0.9217 - val_loss: 0.2893 - val_acc: 0.8750\n",
            "Epoch 26/32\n",
            "781/781 [==============================] - 295s 378ms/step - loss: 0.2054 - acc: 0.9245 - val_loss: 0.2996 - val_acc: 0.8578\n",
            "Epoch 27/32\n",
            "781/781 [==============================] - 296s 380ms/step - loss: 0.2009 - acc: 0.9246 - val_loss: 0.2644 - val_acc: 0.8899\n",
            "Epoch 28/32\n",
            "781/781 [==============================] - 297s 380ms/step - loss: 0.1937 - acc: 0.9281 - val_loss: 0.2901 - val_acc: 0.8394\n",
            "Epoch 29/32\n",
            "781/781 [==============================] - 299s 382ms/step - loss: 0.1860 - acc: 0.9286 - val_loss: 0.3108 - val_acc: 0.8578\n",
            "Epoch 30/32\n",
            "781/781 [==============================] - 297s 380ms/step - loss: 0.1848 - acc: 0.9317 - val_loss: 0.2527 - val_acc: 0.8991\n",
            "Epoch 31/32\n",
            "781/781 [==============================] - 298s 381ms/step - loss: 0.1793 - acc: 0.9343 - val_loss: 0.3077 - val_acc: 0.8394\n",
            "Epoch 32/32\n",
            "781/781 [==============================] - 297s 380ms/step - loss: 0.1767 - acc: 0.9337 - val_loss: 0.2904 - val_acc: 0.8761\n"
          ],
          "name": "stdout"
        }
      ]
    },
    {
      "metadata": {
        "id": "UgCOdfD6Rx0i",
        "colab_type": "code",
        "colab": {}
      },
      "cell_type": "code",
      "source": [
        "model.save('/content/drive/My Drive/train/DRmodel.h5')"
      ],
      "execution_count": 0,
      "outputs": []
    },
    {
      "metadata": {
        "id": "4Kj--dvVRyFV",
        "colab_type": "code",
        "outputId": "29624e53-c580-4875-9d8a-5407617f1b15",
        "colab": {
          "base_uri": "https://localhost:8080/",
          "height": 275
        }
      },
      "cell_type": "code",
      "source": [
        "plt.figure(1, figsize = (15,8)) \n",
        "    \n",
        "plt.subplot(221)  \n",
        "plt.plot(variable.history['acc'])  \n",
        "plt.plot(variable.history['val_acc'])  \n",
        "plt.title('model accuracy')  \n",
        "plt.ylabel('accuracy')  \n",
        "plt.xlabel('epoch')  \n",
        "plt.legend(['train', 'valid']) \n",
        "    \n",
        "plt.subplot(222)  \n",
        "plt.plot(variable.history['loss'])  \n",
        "plt.plot(variable.history['val_loss'])  \n",
        "plt.title('model loss')  \n",
        "plt.ylabel('loss')  \n",
        "plt.xlabel('epoch')  \n",
        "plt.legend(['train', 'valid']) \n",
        "\n",
        "plt.show()\n"
      ],
      "execution_count": 0,
      "outputs": [
        {
          "output_type": "display_data",
          "data": {
            "image/png": "[encoded data removed]",
            "text/plain": [
              "<Figure size 1080x576 with 2 Axes>"
            ]
          },
          "metadata": {
            "tags": []
          }
        }
      ]
    },
    {
      "metadata": {
        "id": "eELq6VQnRyqU",
        "colab_type": "code",
        "colab": {}
      },
      "cell_type": "code",
      "source": [
        "import os\n",
        "from keras.models import load_model\n",
        "from PIL import Image\n",
        "from keras.preprocessing import image\n",
        "import numpy as np\n",
        "import cv2"
      ],
      "execution_count": 0,
      "outputs": []
    },
    {
      "metadata": {
        "id": "CVWtMk6XRzDP",
        "colab_type": "code",
        "colab": {}
      },
      "cell_type": "code",
      "source": [
        "target_size = (512,512)\n",
        "model=load_model('/content/drive/My Drive/train/DRmodel.h5')\n",
        "#print(\"model loaded\")\n"
      ],
      "execution_count": 0,
      "outputs": []
    },
    {
      "metadata": {
        "id": "-Q0ixfRyRynm",
        "colab_type": "code",
        "outputId": "11cc6cd6-339d-4b7a-e049-004a8c916ab2",
        "colab": {
          "base_uri": "https://localhost:8080/",
          "height": 4267
        }
      },
      "cell_type": "code",
      "source": [
        "f1 = open(\"/content/drive/My Drive/train/DRresults.csv\",'w')\n",
        "\n",
        "\n",
        "for root, dirs, files in os.walk(\"/content/drive/My Drive/train/test\", topdown=False):\n",
        "    if root == \"/content/drive/My Drive/train/test\":\n",
        "        for name in dirs:\n",
        "            TEST_DIR=\"/content/drive/My Drive/train/test/\"+name+\"/\"  \n",
        "            img_file=os.listdir(TEST_DIR)\n",
        "            for f in (img_file):\n",
        "                img = Image.open(TEST_DIR+f)\n",
        "                img = cv2.imread(TEST_DIR+f)\n",
        "                img = cv2.resize(img , target_size)\n",
        "                x = image.img_to_array(img)\n",
        "                #print(x.shape)\n",
        "                x = np.expand_dims(x, axis=0)\n",
        "                \n",
        "                #np.delete(x,0)\n",
        "                #print(x.shape)\t\n",
        "                #np.resize(x, [-1,300,300])\n",
        "                preds = model.predict(x)\n",
        "                pred_classes = preds.argmax(axis=-1)\n",
        "                print(name,pred_classes)\n",
        "                f1.write(name+\"\\t\"+ str(pred_classes) +\"\\n\")\n",
        "\n",
        "f1.close()\n"
      ],
      "execution_count": 0,
      "outputs": [
        {
          "output_type": "stream",
          "text": [
            "class1 [1]\n",
            "class1 [1]\n",
            "class1 [1]\n",
            "class1 [1]\n",
            "class1 [1]\n",
            "class1 [1]\n",
            "class1 [1]\n",
            "class1 [1]\n",
            "class1 [1]\n",
            "class1 [1]\n",
            "class1 [1]\n",
            "class1 [1]\n",
            "class1 [2]\n",
            "class1 [1]\n",
            "class1 [1]\n",
            "class1 [1]\n",
            "class1 [1]\n",
            "class1 [1]\n",
            "class1 [1]\n",
            "class1 [1]\n",
            "class1 [1]\n",
            "class1 [1]\n",
            "class1 [1]\n",
            "class1 [1]\n",
            "class1 [1]\n",
            "class1 [1]\n",
            "class1 [2]\n",
            "class1 [1]\n",
            "class1 [1]\n",
            "class1 [1]\n",
            "class1 [1]\n",
            "class1 [1]\n",
            "class1 [1]\n",
            "class1 [1]\n",
            "class1 [1]\n",
            "class1 [1]\n",
            "class1 [1]\n",
            "class1 [1]\n",
            "class1 [1]\n",
            "class1 [1]\n",
            "class1 [1]\n",
            "class1 [1]\n",
            "class1 [2]\n",
            "class1 [1]\n",
            "class1 [1]\n",
            "class1 [1]\n",
            "class1 [1]\n",
            "class1 [0]\n",
            "class1 [1]\n",
            "class1 [1]\n",
            "class0 [0]\n",
            "class0 [0]\n",
            "class0 [0]\n",
            "class0 [0]\n",
            "class0 [0]\n",
            "class0 [0]\n",
            "class0 [0]\n",
            "class0 [0]\n",
            "class0 [0]\n",
            "class0 [0]\n",
            "class0 [0]\n",
            "class0 [0]\n",
            "class0 [0]\n",
            "class0 [0]\n",
            "class0 [0]\n",
            "class0 [0]\n",
            "class0 [0]\n",
            "class0 [0]\n",
            "class0 [0]\n",
            "class0 [0]\n",
            "class0 [0]\n",
            "class0 [0]\n",
            "class0 [0]\n",
            "class0 [0]\n",
            "class0 [0]\n",
            "class0 [0]\n",
            "class0 [0]\n",
            "class0 [0]\n",
            "class0 [0]\n",
            "class0 [0]\n",
            "class0 [0]\n",
            "class0 [0]\n",
            "class0 [0]\n",
            "class0 [0]\n",
            "class0 [0]\n",
            "class0 [0]\n",
            "class0 [0]\n",
            "class0 [0]\n",
            "class0 [0]\n",
            "class0 [0]\n",
            "class0 [0]\n",
            "class0 [0]\n",
            "class0 [0]\n",
            "class0 [0]\n",
            "class0 [0]\n",
            "class0 [0]\n",
            "class0 [0]\n",
            "class0 [0]\n",
            "class0 [0]\n",
            "class0 [0]\n",
            "class2 [2]\n",
            "class2 [2]\n",
            "class2 [2]\n",
            "class2 [0]\n",
            "class2 [1]\n",
            "class2 [2]\n",
            "class2 [2]\n",
            "class2 [2]\n",
            "class2 [0]\n",
            "class2 [2]\n",
            "class2 [2]\n",
            "class2 [0]\n",
            "class2 [0]\n",
            "class2 [2]\n",
            "class2 [2]\n",
            "class2 [2]\n",
            "class2 [2]\n",
            "class2 [2]\n",
            "class2 [2]\n",
            "class2 [2]\n",
            "class2 [2]\n",
            "class2 [2]\n",
            "class2 [2]\n",
            "class2 [2]\n",
            "class2 [0]\n",
            "class2 [2]\n",
            "class2 [2]\n",
            "class2 [2]\n",
            "class2 [2]\n",
            "class2 [2]\n",
            "class2 [2]\n",
            "class2 [2]\n",
            "class2 [2]\n",
            "class2 [2]\n",
            "class2 [2]\n",
            "class2 [2]\n",
            "class2 [2]\n",
            "class2 [2]\n",
            "class2 [2]\n",
            "class2 [2]\n",
            "class2 [2]\n",
            "class2 [0]\n",
            "class2 [0]\n",
            "class2 [2]\n",
            "class2 [2]\n",
            "class2 [0]\n",
            "class2 [2]\n",
            "class2 [2]\n",
            "class2 [2]\n",
            "class2 [1]\n",
            "class4 [0]\n",
            "class4 [0]\n",
            "class4 [0]\n",
            "class4 [2]\n",
            "class4 [4]\n",
            "class4 [1]\n",
            "class4 [2]\n",
            "class4 [0]\n",
            "class4 [0]\n",
            "class4 [0]\n",
            "class4 [2]\n",
            "class4 [2]\n",
            "class4 [2]\n",
            "class4 [4]\n",
            "class4 [2]\n",
            "class4 [1]\n",
            "class4 [4]\n",
            "class4 [4]\n",
            "class4 [4]\n",
            "class4 [2]\n",
            "class4 [0]\n",
            "class4 [4]\n",
            "class4 [0]\n",
            "class4 [2]\n",
            "class4 [2]\n",
            "class4 [2]\n",
            "class4 [4]\n",
            "class4 [4]\n",
            "class4 [0]\n",
            "class4 [3]\n",
            "class4 [2]\n",
            "class4 [4]\n",
            "class4 [4]\n",
            "class4 [4]\n",
            "class4 [2]\n",
            "class4 [4]\n",
            "class4 [4]\n",
            "class4 [2]\n",
            "class4 [2]\n",
            "class4 [2]\n",
            "class4 [4]\n",
            "class4 [4]\n",
            "class4 [2]\n",
            "class4 [4]\n",
            "class4 [2]\n",
            "class4 [4]\n",
            "class4 [2]\n",
            "class4 [2]\n",
            "class4 [2]\n",
            "class4 [0]\n",
            "class3 [3]\n",
            "class3 [3]\n",
            "class3 [3]\n",
            "class3 [3]\n",
            "class3 [3]\n",
            "class3 [3]\n",
            "class3 [3]\n",
            "class3 [3]\n",
            "class3 [3]\n",
            "class3 [3]\n",
            "class3 [0]\n",
            "class3 [3]\n",
            "class3 [3]\n",
            "class3 [3]\n",
            "class3 [3]\n",
            "class3 [0]\n",
            "class3 [3]\n",
            "class3 [0]\n",
            "class3 [3]\n",
            "class3 [3]\n",
            "class3 [3]\n",
            "class3 [0]\n",
            "class3 [3]\n",
            "class3 [0]\n",
            "class3 [3]\n",
            "class3 [3]\n",
            "class3 [3]\n",
            "class3 [3]\n",
            "class3 [3]\n",
            "class3 [3]\n",
            "class3 [3]\n",
            "class3 [3]\n",
            "class3 [3]\n",
            "class3 [3]\n",
            "class3 [3]\n",
            "class3 [0]\n",
            "class3 [3]\n",
            "class3 [3]\n",
            "class3 [3]\n",
            "class3 [3]\n",
            "class3 [0]\n",
            "class3 [3]\n",
            "class3 [3]\n",
            "class3 [3]\n",
            "class3 [3]\n",
            "class3 [3]\n",
            "class3 [0]\n",
            "class3 [3]\n",
            "class3 [3]\n",
            "class3 [3]\n"
          ],
          "name": "stdout"
        }
      ]
    },
    {
      "metadata": {
        "id": "5beHf1HTRylM",
        "colab_type": "code",
        "colab": {}
      },
      "cell_type": "code",
      "source": [
        ""
      ],
      "execution_count": 0,
      "outputs": []
    },
    {
      "metadata": {
        "id": "QJy7noF7Ryh_",
        "colab_type": "code",
        "colab": {}
      },
      "cell_type": "code",
      "source": [
        ""
      ],
      "execution_count": 0,
      "outputs": []
    },
    {
      "metadata": {
        "id": "4W91e6prsZTz",
        "colab_type": "code",
        "colab": {}
      },
      "cell_type": "code",
      "source": [
        ""
      ],
      "execution_count": 0,
      "outputs": []
    }
  ]
}